{
 "cells": [
  {
   "cell_type": "code",
   "execution_count": 1,
   "metadata": {},
   "outputs": [
    {
     "name": "stdout",
     "output_type": "stream",
     "text": [
      "3 4 4 -1 "
     ]
    }
   ],
   "source": [
    "#Q1 - \n",
    "'''  \n",
    "Given an array arr[ ] of size N having elements, the task is to find the next greater element for each element of the array in order of \n",
    "their appearance in the array.Next greater element of an element in the array is the nearest element on the right which is greater \n",
    "than the current element.If there does not exist next greater of current element, then next greater element for current element is -1. \n",
    "For example, next greater of the last element is always -1.\n",
    "\n",
    "Input for this question is:\n",
    "N = 4, arr[] = [1 3 2 4]\n",
    "Output for this question should be:\n",
    "3 4 4 -1\n",
    "'''\n",
    "#Answer:\n",
    "def nextGreaterElement(arr):\n",
    "    n = len(arr)\n",
    "    result = [-1] * n\n",
    "    stack = []\n",
    "\n",
    "    for i in range(n - 1, -1, -1):\n",
    "        while stack and arr[i] >= arr[stack[-1]]:\n",
    "            stack.pop()\n",
    "\n",
    "        if stack:\n",
    "            result[i] = arr[stack[-1]]\n",
    "\n",
    "        stack.append(i)\n",
    "\n",
    "    return result\n",
    "\n",
    "# Create the input array\n",
    "arr = [1, 3, 2, 4]\n",
    "\n",
    "# Call the nextGreaterElement function\n",
    "result = nextGreaterElement(arr)\n",
    "\n",
    "# Print the next greater elements\n",
    "for num in result:\n",
    "    print(num, end=\" \")\n"
   ]
  },
  {
   "cell_type": "code",
   "execution_count": 2,
   "metadata": {},
   "outputs": [
    {
     "name": "stdout",
     "output_type": "stream",
     "text": [
      "-1 1 1 "
     ]
    }
   ],
   "source": [
    "#Q2 - \n",
    "'''   \n",
    "Given an array a of integers of length n, find the nearest smaller number for every element such that the smaller element is on left side.If no small element present on the left print -1.\n",
    "\n",
    "input for this question is: n = 3\n",
    "a = {1, 6, 2}\n",
    "Output for this question should be: -1 1 1\n",
    "'''\n",
    "#Answer:\n",
    "def nearestSmallerNumbers(n, a):\n",
    "    result = [-1] * n\n",
    "    stack = []\n",
    "\n",
    "    for i in range(n):\n",
    "        while stack and a[i] <= a[stack[-1]]:\n",
    "            stack.pop()\n",
    "\n",
    "        if stack:\n",
    "            result[i] = a[stack[-1]]\n",
    "\n",
    "        stack.append(i)\n",
    "\n",
    "    return result\n",
    "\n",
    "# Create the input array\n",
    "n = 3\n",
    "a = [1, 6, 2]\n",
    "\n",
    "# Call the nearestSmallerNumbers function\n",
    "result = nearestSmallerNumbers(n, a)\n",
    "\n",
    "# Print the nearest smaller numbers\n",
    "for num in result:\n",
    "    print(num, end=\" \")\n"
   ]
  },
  {
   "cell_type": "code",
   "execution_count": 3,
   "metadata": {},
   "outputs": [
    {
     "name": "stdout",
     "output_type": "stream",
     "text": [
      "3\n",
      "4\n"
     ]
    }
   ],
   "source": [
    "#Q3 - \n",
    "'''   \n",
    "Implement a Stack using two queues q1 and q2.\n",
    "Input for this question is:\n",
    "push(2)\n",
    "push(3)\n",
    "pop()\n",
    "push(4)\n",
    "pop()\n",
    "Output for this question should be:3 4\n",
    "'''\n",
    "#Answer\n",
    "from collections import deque\n",
    "\n",
    "class Stack:\n",
    "    def __init__(self):\n",
    "        self.q1 = deque()\n",
    "        self.q2 = deque()\n",
    "\n",
    "    def push(self, val):\n",
    "        self.q2.append(val)\n",
    "        while self.q1:\n",
    "            self.q2.append(self.q1.popleft())\n",
    "        self.q1, self.q2 = self.q2, self.q1\n",
    "\n",
    "    def pop(self):\n",
    "        if self.empty():\n",
    "            return None\n",
    "        return self.q1.popleft()\n",
    "\n",
    "    def top(self):\n",
    "        if self.empty():\n",
    "            return None\n",
    "        return self.q1[0]\n",
    "\n",
    "    def empty(self):\n",
    "        return len(self.q1) == 0\n",
    "\n",
    "# Create a stack object\n",
    "stack = Stack()\n",
    "\n",
    "# Perform stack operations\n",
    "stack.push(2)\n",
    "stack.push(3)\n",
    "print(stack.pop())\n",
    "stack.push(4)\n",
    "print(stack.pop())\n",
    "\n"
   ]
  },
  {
   "cell_type": "code",
   "execution_count": 4,
   "metadata": {},
   "outputs": [
    {
     "name": "stdout",
     "output_type": "stream",
     "text": [
      "[6, 7, 1, 2, 3]\n"
     ]
    }
   ],
   "source": [
    "#Q4 - \n",
    "'''   \n",
    "You are given a stack St. You have to reverse the stack using recursion.\n",
    "Input for this question is :St = {3,2,1,7,6}\n",
    "Output for this question should be:{6,7,1,2,3}\n",
    "'''\n",
    "\n",
    "#Answer:\n",
    "# Recursive function to insert an element at the bottom of a stack\n",
    "def insertAtBottom(stack, item):\n",
    "    if not stack:\n",
    "        stack.append(item)\n",
    "    else:\n",
    "        temp = stack.pop()\n",
    "        insertAtBottom(stack, item)\n",
    "        stack.append(temp)\n",
    "\n",
    "# Recursive function to reverse a stack\n",
    "def reverseStack(stack):\n",
    "    if len(stack) > 1:\n",
    "        item = stack.pop()\n",
    "        reverseStack(stack)\n",
    "        insertAtBottom(stack, item)\n",
    "\n",
    "# Create the input stack\n",
    "St = [3, 2, 1, 7, 6]\n",
    "\n",
    "# Call the reverseStack function\n",
    "reverseStack(St)\n",
    "\n",
    "# Print the reversed stack\n",
    "print(St)\n"
   ]
  },
  {
   "cell_type": "code",
   "execution_count": 5,
   "metadata": {},
   "outputs": [
    {
     "name": "stdout",
     "output_type": "stream",
     "text": [
      "skeeGrofskeeG\n"
     ]
    }
   ],
   "source": [
    "#Q - \n",
    "'''   \n",
    "You are given a string S, the task is to reverse the string using stack.\n",
    "Input for this question is : S=\"GeeksforGeeks\"\n",
    "Output for this question should be: skeeGrofskeeG\n",
    "'''\n",
    "\n",
    "#Answer:\n",
    "def reverseString(S):\n",
    "    stack = []\n",
    "    for char in S:\n",
    "        stack.append(char)\n",
    "\n",
    "    reversed_string = \"\"\n",
    "    while stack:\n",
    "        reversed_string += stack.pop()\n",
    "\n",
    "    return reversed_string\n",
    "\n",
    "# Test the function with the given input\n",
    "S = \"GeeksforGeeks\"\n",
    "reversed_str = reverseString(S)\n",
    "print(reversed_str)\n"
   ]
  },
  {
   "cell_type": "code",
   "execution_count": 7,
   "metadata": {},
   "outputs": [
    {
     "name": "stdout",
     "output_type": "stream",
     "text": [
      "-4\n"
     ]
    }
   ],
   "source": [
    "#Q6 - \n",
    "'''   \n",
    "Given string S representing a postfix expression, the task is to evaluate the expression and find the final value. Operators will only include the basic arithmetic operators like *, /, + and -.\n",
    "Input for this question is : S = \"231*+9-\"\n",
    "Output for this question should be: -4\n",
    "'''\n",
    "#Answer:\n",
    "def evaluatePostfixExpression(S):\n",
    "    stack = []\n",
    "    for char in S:\n",
    "        if char.isdigit():\n",
    "            stack.append(int(char))\n",
    "        else:\n",
    "            operand2 = stack.pop()\n",
    "            operand1 = stack.pop()\n",
    "            if char == '+':\n",
    "                result = operand1 + operand2\n",
    "            elif char == '-':\n",
    "                result = operand1 - operand2\n",
    "            elif char == '*':\n",
    "                result = operand1 * operand2\n",
    "            elif char == '/':\n",
    "                result = operand1 / operand2\n",
    "            stack.append(result)\n",
    "\n",
    "    return stack.pop()\n",
    "\n",
    "# Test the function with the given input\n",
    "S = \"231*+9-\"\n",
    "result = evaluatePostfixExpression(S)\n",
    "print(result)\n"
   ]
  },
  {
   "cell_type": "code",
   "execution_count": 8,
   "metadata": {},
   "outputs": [
    {
     "name": "stdout",
     "output_type": "stream",
     "text": [
      "-3\n",
      "0\n",
      "-2\n"
     ]
    }
   ],
   "source": [
    "#Q7 - \n",
    "\n",
    "'''   \n",
    "\n",
    "Design a stack that supports push, pop, top, and retrieving the minimum element in constant time.\n",
    "\n",
    "Implement the `MinStack` class:\n",
    "\n",
    "- `MinStack()` initializes the stack object.\n",
    "- `void push(int val)` pushes the element `val` onto the stack.\n",
    "- `void pop()` removes the element on the top of the stack.\n",
    "- `int top()` gets the top element of the stack.\n",
    "- `int getMin()` retrieves the minimum element in the stack.\n",
    "\n",
    "You must implement a solution with `O(1)` time complexity for each function.\n",
    "\n",
    "Input for this question is:\n",
    "[\"MinStack\",\"push\",\"push\",\"push\",\"getMin\",\"pop\",\"top\",\"getMin\"]\n",
    "[[],[-2],[0],[-3],[],[],[],[]]\n",
    "\n",
    "Output for this question should be:\n",
    "[null,null,null,null,-3,null,0,-2]'''\n",
    "\n",
    "#Answer:\n",
    "class MinStack:\n",
    "    def __init__(self):\n",
    "        self.stack = []\n",
    "        self.min_stack = []\n",
    "\n",
    "    def push(self, val):\n",
    "        self.stack.append(val)\n",
    "        if not self.min_stack or val <= self.min_stack[-1]:\n",
    "            self.min_stack.append(val)\n",
    "\n",
    "    def pop(self):\n",
    "        if self.stack.pop() == self.min_stack[-1]:\n",
    "            self.min_stack.pop()\n",
    "\n",
    "    def top(self):\n",
    "        return self.stack[-1]\n",
    "\n",
    "    def getMin(self):\n",
    "        return self.min_stack[-1]\n",
    "\n",
    "# Test the MinStack operations with the given input\n",
    "minStack = MinStack()\n",
    "minStack.push(-2)\n",
    "minStack.push(0)\n",
    "minStack.push(-3)\n",
    "print(minStack.getMin())\n",
    "minStack.pop()\n",
    "print(minStack.top())\n",
    "print(minStack.getMin())\n"
   ]
  },
  {
   "cell_type": "code",
   "execution_count": 9,
   "metadata": {},
   "outputs": [
    {
     "name": "stdout",
     "output_type": "stream",
     "text": [
      "6\n"
     ]
    }
   ],
   "source": [
    "#Q8 - \n",
    "\n",
    "'''  \n",
    "Given n non-negative integers representing an elevation map where the width of each bar is 1, compute how much water it can trap after raining.\n",
    "Input for this question is: height = [0,1,0,2,1,0,1,3,2,1,2,1]\n",
    "Output for this question should be: 6\n",
    "'''\n",
    "\n",
    "#Answer:\n",
    "def trap(height):\n",
    "    left = 0\n",
    "    right = len(height) - 1\n",
    "    left_max = 0\n",
    "    right_max = 0\n",
    "    water = 0\n",
    "\n",
    "    while left <= right:\n",
    "        if height[left] <= height[right]:\n",
    "            left_max = max(left_max, height[left])\n",
    "            water += left_max - height[left]\n",
    "            left += 1\n",
    "        else:\n",
    "            right_max = max(right_max, height[right])\n",
    "            water += right_max - height[right]\n",
    "            right -= 1\n",
    "\n",
    "    return water\n",
    "\n",
    "# Test the function with the given input\n",
    "height = [0, 1, 0, 2, 1, 0, 1, 3, 2, 1, 2, 1]\n",
    "result = trap(height)\n",
    "print(result)\n"
   ]
  },
  {
   "cell_type": "code",
   "execution_count": null,
   "metadata": {},
   "outputs": [],
   "source": []
  }
 ],
 "metadata": {
  "kernelspec": {
   "display_name": "Python 3.9.6 64-bit",
   "language": "python",
   "name": "python3"
  },
  "language_info": {
   "codemirror_mode": {
    "name": "ipython",
    "version": 3
   },
   "file_extension": ".py",
   "mimetype": "text/x-python",
   "name": "python",
   "nbconvert_exporter": "python",
   "pygments_lexer": "ipython3",
   "version": "3.9.6"
  },
  "orig_nbformat": 4,
  "vscode": {
   "interpreter": {
    "hash": "31f2aee4e71d21fbe5cf8b01ff0e069b9275f58929596ceb00d14d90e3e16cd6"
   }
  }
 },
 "nbformat": 4,
 "nbformat_minor": 2
}
